{
 "cells": [
  {
   "cell_type": "code",
   "execution_count": null,
   "id": "592e00df",
   "metadata": {},
   "outputs": [],
   "source": [
    "# !pip install torch torchvision"
   ]
  },
  {
   "cell_type": "code",
   "execution_count": null,
   "id": "9e4a3504",
   "metadata": {},
   "outputs": [],
   "source": [
    "import torch\n",
    "import torchvision\n",
    "import numpy as np\n",
    "import torch.nn as nn\n",
    "import torch.nn.functional as F\n",
    "import torch.optim as optim\n",
    "from torchsummary import summary\n"
   ]
  },
  {
   "cell_type": "markdown",
   "id": "320ba2b9",
   "metadata": {},
   "source": [
    "#### Define parameters"
   ]
  },
  {
   "cell_type": "code",
   "execution_count": null,
   "id": "041e4775",
   "metadata": {},
   "outputs": [],
   "source": [
    "n_epochs = 10\n",
    "batch_size_train = 64\n",
    "batch_size_test = 1000\n",
    "learning_rate = 0.01\n",
    "momentum = 0.5\n",
    "log_interval = 100\n",
    "\n",
    "random_seed = 42\n",
    "torch.backends.cudnn.enabled = False\n",
    "torch.manual_seed(random_seed)"
   ]
  },
  {
   "cell_type": "markdown",
   "id": "549b8212",
   "metadata": {},
   "source": [
    "#### Initialize PyTorch Dataset and Dataloader, Make use of torchvision MNIST API"
   ]
  },
  {
   "cell_type": "code",
   "execution_count": null,
   "id": "46482890",
   "metadata": {},
   "outputs": [],
   "source": [
    "train_loader = torch.utils.data.DataLoader(\n",
    "  torchvision.datasets.MNIST('data', train=True, download=True,\n",
    "                             transform=torchvision.transforms.Compose([\n",
    "                               torchvision.transforms.ToTensor(),\n",
    "                               torchvision.transforms.Normalize(\n",
    "                                 (0.1307,), (0.3081,))\n",
    "                             ])),\n",
    "  batch_size=batch_size_train, shuffle=True)\n",
    "\n",
    "test_loader = torch.utils.data.DataLoader(\n",
    "  torchvision.datasets.MNIST('data', train=False, download=True,\n",
    "                             transform=torchvision.transforms.Compose([\n",
    "                               torchvision.transforms.ToTensor(),\n",
    "                               torchvision.transforms.Normalize(\n",
    "                                 (0.1307,), (0.3081,))\n",
    "                             ])),\n",
    "  batch_size=batch_size_test, shuffle=True)"
   ]
  },
  {
   "cell_type": "markdown",
   "id": "9000e7a4",
   "metadata": {},
   "source": [
    "#### Take out an example set for future use"
   ]
  },
  {
   "cell_type": "code",
   "execution_count": null,
   "id": "cc06989f",
   "metadata": {},
   "outputs": [],
   "source": [
    "examples = enumerate(test_loader)\n",
    "batch_idx, (example_data, example_targets) = next(examples)"
   ]
  },
  {
   "cell_type": "code",
   "execution_count": null,
   "id": "c4d63d10",
   "metadata": {},
   "outputs": [],
   "source": [
    "example_data.shape"
   ]
  },
  {
   "cell_type": "markdown",
   "id": "68fea542",
   "metadata": {},
   "source": [
    "#### View the sampes from example data\n"
   ]
  },
  {
   "cell_type": "code",
   "execution_count": null,
   "id": "77bd8fa4",
   "metadata": {},
   "outputs": [],
   "source": [
    "import matplotlib.pyplot as plt\n",
    "\n",
    "fig = plt.figure()\n",
    "for i in range(6):\n",
    "    plt.subplot(2,3,i+1)\n",
    "    plt.tight_layout()\n",
    "    plt.imshow(example_data[i][0], cmap='gray', interpolation='none')\n",
    "    plt.title(\"Ground Truth: {}\".format(example_targets[i]))\n",
    "    plt.xticks([])\n",
    "    plt.yticks([])\n",
    "fig"
   ]
  },
  {
   "cell_type": "markdown",
   "id": "9f830236",
   "metadata": {},
   "source": [
    "#### Functions to encode and decode binary and decimal. Used to treat input/outputs of the network"
   ]
  },
  {
   "cell_type": "code",
   "execution_count": null,
   "id": "6ce071cc",
   "metadata": {},
   "outputs": [],
   "source": [
    "import math"
   ]
  },
  {
   "cell_type": "code",
   "execution_count": null,
   "id": "a44d465b",
   "metadata": {},
   "outputs": [],
   "source": [
    "def encodeDecimalToBinary(n, n_classes):\n",
    "    binary = bin(n).replace(\"0b\", \"\")\n",
    "    bin_val = str('0'*(n_classes - len(binary))) + str(binary)\n",
    "    res = [int(x) for x in str(bin_val)]\n",
    "    return res"
   ]
  },
  {
   "cell_type": "code",
   "execution_count": null,
   "id": "e8cf615f",
   "metadata": {},
   "outputs": [],
   "source": [
    "encodeDecimalToBinary(16, 5)"
   ]
  },
  {
   "cell_type": "code",
   "execution_count": null,
   "id": "5a541d60",
   "metadata": {},
   "outputs": [],
   "source": [
    "def decodeGetPrediction(pred):\n",
    "    # First 4 bits -> MNIST digit\n",
    "    # Last 5 bits -> SUM part\n",
    "    _mnist = int(''.join(map(str, pred[:4].int().tolist())), 2)\n",
    "    _sum = int(''.join(map(str, pred[4:].int().tolist())), 2)\n",
    "    return {\"MNIST Class\": _mnist, \"Sum\": _sum}"
   ]
  },
  {
   "cell_type": "markdown",
   "id": "d35e2528",
   "metadata": {},
   "source": [
    "#### Random Batch Sampler (Used to synthesize the training set required as a 2nd input to network)"
   ]
  },
  {
   "cell_type": "code",
   "execution_count": null,
   "id": "33bb2afe",
   "metadata": {},
   "outputs": [],
   "source": [
    "class RandomSampler:\n",
    "    def __init__(self, bs=32):\n",
    "        self.bs = bs\n",
    "    \n",
    "    def getRandomBatch(self, n_classes):\n",
    "        label = torch.randint(0, 10, (self.bs,))\n",
    "        binaryList = []\n",
    "        for el in label:\n",
    "            binaryList.append(encodeDecimalToBinary(el, n_classes))\n",
    "        X = torch.tensor(binaryList)\n",
    "        \n",
    "        return X, label"
   ]
  },
  {
   "cell_type": "code",
   "execution_count": null,
   "id": "a446e2fc",
   "metadata": {},
   "outputs": [],
   "source": [
    "class Net(nn.Module):\n",
    "    def __init__(self):\n",
    "        super(Net, self).__init__()\n",
    "        self.conv1 = nn.Conv2d(1, 10, kernel_size=5)\n",
    "        self.conv2 = nn.Conv2d(10, 20, kernel_size=5)\n",
    "        self.conv2_drop = nn.Dropout2d()\n",
    "        self.fc1 = nn.Linear(324, 128)\n",
    "        self.fc2 = nn.Linear(128, 64)\n",
    "        self.fc3 = nn.Linear(64, 9)\n",
    "\n",
    "    def forward(self, x, x_rand):\n",
    "        x = F.relu(F.max_pool2d(self.conv1(x), 2))\n",
    "        x = F.relu(F.max_pool2d(self.conv2_drop(self.conv2(x)), 2))\n",
    "        x = x.view(-1, 320)\n",
    "        x = torch.cat((x, x_rand), 1)\n",
    "        x = F.relu(self.fc1(x))\n",
    "        x = F.dropout(x, training=self.training)\n",
    "        x = F.relu(self.fc2(x))\n",
    "        x = self.fc3(x)\n",
    "        return torch.sigmoid(x) # F.log_softmax(x)\n",
    "    \n",
    "    \n",
    "device = torch.device(\"cuda\" if torch.cuda.is_available() else \"cpu\")\n",
    "model = Net()\n",
    "model.to(device)"
   ]
  },
  {
   "cell_type": "code",
   "execution_count": null,
   "id": "e21dfa4d",
   "metadata": {},
   "outputs": [],
   "source": [
    "# test model with sample datapoints, 2 batch size.\n",
    "# multiple inputs to forward pass of the network\n",
    "\n",
    "model(torch.rand(2, 1, 28, 28).to(device), torch.rand(2, 4).to(device))"
   ]
  },
  {
   "cell_type": "code",
   "execution_count": null,
   "id": "1f124ca5",
   "metadata": {},
   "outputs": [],
   "source": [
    "# Initialize the model and use Adam Optimizer\n",
    "network = Net()\n",
    "optimizer = optim.Adam(network.parameters(), lr=learning_rate)"
   ]
  },
  {
   "cell_type": "code",
   "execution_count": null,
   "id": "21f82d95",
   "metadata": {},
   "outputs": [],
   "source": [
    "train_losses = []\n",
    "train_counter = []\n",
    "test_losses = []\n",
    "test_counter = [i*len(train_loader.dataset) for i in range(n_epochs + 1)]"
   ]
  },
  {
   "cell_type": "markdown",
   "id": "f6b42ebc",
   "metadata": {},
   "source": [
    "#### Define utility function to convert batch of data (I agree, it's not optimal!)"
   ]
  },
  {
   "cell_type": "code",
   "execution_count": null,
   "id": "5cfc1316",
   "metadata": {},
   "outputs": [],
   "source": [
    "def convertBatchDecimalToBinary(t, n_classes):\n",
    "    binaryList = []\n",
    "    for el in t:\n",
    "        binaryList.append(encodeDecimalToBinary(el, n_classes))\n",
    "    return torch.tensor(binaryList, dtype=torch.float32)\n",
    "\n",
    "def getSumBinaryRepr(target1, target2, n_classes):\n",
    "    total_sum = target1 + target2\n",
    "    binaryList = []\n",
    "    for el in total_sum:\n",
    "        binaryList.append(encodeDecimalToBinary(el, n_classes))\n",
    "    return torch.tensor(binaryList, dtype=torch.float32)\n",
    "    "
   ]
  },
  {
   "cell_type": "markdown",
   "id": "5f74dd79",
   "metadata": {},
   "source": [
    "#### Training Loop"
   ]
  },
  {
   "cell_type": "code",
   "execution_count": null,
   "id": "f484724a",
   "metadata": {},
   "outputs": [],
   "source": [
    "def train(epoch):\n",
    "    network.train()\n",
    "    correct = 0\n",
    "    for batch_idx, (data, target) in enumerate(train_loader):\n",
    "        optimizer.zero_grad()\n",
    "\n",
    "        # Get Random samples, batch size matches with the train_dataloader size\n",
    "        rs = RandomSampler(len(data))\n",
    "        X_rand, label_rand = rs.getRandomBatch(4) # Input\n",
    "        \n",
    "        # Pass both the inputs, (mnist, random data) to the neural network\n",
    "        output = network(data, X_rand)\n",
    "        \n",
    "        # Train target consolidation to manage the binary encodings\n",
    "        bin_target = convertBatchDecimalToBinary(target, 4)\n",
    "        bin_sum = getSumBinaryRepr(label_rand, target, 5)\n",
    "        bin_true_targets = torch.cat((bin_target, bin_sum), 1)\n",
    "        \n",
    "        # Binary cross entropy loss, its a multi-label classification.\n",
    "        # Unnormalized output, it doesnt sum upto 1.\n",
    "        loss = F.binary_cross_entropy(output, bin_true_targets)\n",
    "        \n",
    "        loss.backward()\n",
    "        optimizer.step()\n",
    "                        \n",
    "        if batch_idx % log_interval == 0:\n",
    "            print('Train Epoch: {} [{}/{} ({:.0f}%)]\\tLoss: {:.6f}'.format(\n",
    "                epoch, batch_idx * len(data), len(train_loader.dataset),\n",
    "                100. * batch_idx / len(train_loader), loss.item()))\n",
    "            train_losses.append(loss.item())\n",
    "            train_counter.append(\n",
    "                (batch_idx*64) + ((epoch-1)*len(train_loader.dataset)))\n"
   ]
  },
  {
   "cell_type": "markdown",
   "id": "9a432f21",
   "metadata": {},
   "source": [
    "#### Testing Loop"
   ]
  },
  {
   "cell_type": "code",
   "execution_count": null,
   "id": "f7cbb73a",
   "metadata": {},
   "outputs": [],
   "source": [
    "def test():\n",
    "    network.eval()\n",
    "    test_loss = 0\n",
    "    correct = 0\n",
    "    with torch.no_grad():\n",
    "        for data, target in test_loader:\n",
    "                    \n",
    "            rs = RandomSampler(len(data))\n",
    "            X_rand, label_rand = rs.getRandomBatch(4) # Input\n",
    "            bin_y_rand = X_rand\n",
    "\n",
    "            output = network(data, X_rand)\n",
    "            \n",
    "            bin_target = convertBatchDecimalToBinary(target, 4)\n",
    "            bin_sum = getSumBinaryRepr(label_rand, target, 5)\n",
    "            bin_true_targets = torch.cat((bin_target, bin_sum), 1)\n",
    "            \n",
    "            test_loss += F.binary_cross_entropy(output, bin_true_targets).item()\n",
    "            \n",
    "            pred = np.round(output)\n",
    "            correct += torch.sum((pred.eq(bin_true_targets)).all(dim=1))\n",
    "                        \n",
    "    test_loss /= len(test_loader.dataset)\n",
    "    test_losses.append(test_loss)\n",
    "    print('\\nTest set: Avg. loss: {:.4f}, Accuracy: {}/{} ({:.0f}%)\\n'.format(\n",
    "        test_loss, correct, len(test_loader.dataset),\n",
    "        100. * correct / len(test_loader.dataset)))"
   ]
  },
  {
   "cell_type": "code",
   "execution_count": null,
   "id": "16a484d1",
   "metadata": {
    "scrolled": false
   },
   "outputs": [],
   "source": [
    "# Run it for n number of epochs\n",
    "\n",
    "test()\n",
    "for epoch in range(1, n_epochs + 1):\n",
    "    train(epoch)\n",
    "    test()"
   ]
  },
  {
   "cell_type": "markdown",
   "id": "279fa09b",
   "metadata": {},
   "source": [
    "#### Plot Test Loss"
   ]
  },
  {
   "cell_type": "code",
   "execution_count": null,
   "id": "9162f311",
   "metadata": {},
   "outputs": [],
   "source": [
    "fig = plt.figure()\n",
    "plt.plot(test_counter, test_losses, color='red')\n",
    "plt.legend(['Test Loss'], loc='upper right')\n",
    "plt.xlabel('number of training examples seen')\n",
    "plt.ylabel('Binary Cross Entropy Loss')\n"
   ]
  },
  {
   "cell_type": "markdown",
   "id": "0fa2d810",
   "metadata": {},
   "source": [
    "#### Plot Train Loss"
   ]
  },
  {
   "cell_type": "code",
   "execution_count": null,
   "id": "cbb02f28",
   "metadata": {},
   "outputs": [],
   "source": [
    "fig = plt.figure()\n",
    "plt.plot(train_counter, train_losses, color='blue')\n",
    "plt.legend(['Train Loss'], loc='upper right')\n",
    "plt.xlabel('number of training examples seen')\n",
    "plt.ylabel('Binary Cross Entropy Loss')\n"
   ]
  },
  {
   "cell_type": "code",
   "execution_count": null,
   "id": "e6236dfb",
   "metadata": {},
   "outputs": [],
   "source": []
  },
  {
   "cell_type": "code",
   "execution_count": null,
   "id": "85ed4cb7",
   "metadata": {},
   "outputs": [],
   "source": []
  },
  {
   "cell_type": "code",
   "execution_count": null,
   "id": "9f1de919",
   "metadata": {},
   "outputs": [],
   "source": []
  },
  {
   "cell_type": "code",
   "execution_count": null,
   "id": "6d3a8306",
   "metadata": {},
   "outputs": [],
   "source": []
  },
  {
   "cell_type": "markdown",
   "id": "e5569f95",
   "metadata": {},
   "source": [
    "#### Time for the good part!!! Visualize the inputs and predicted output.\n"
   ]
  },
  {
   "cell_type": "markdown",
   "id": "de91a17b",
   "metadata": {},
   "source": [
    "Revisit our good old friend - example_data."
   ]
  },
  {
   "cell_type": "code",
   "execution_count": null,
   "id": "0788ca78",
   "metadata": {
    "scrolled": true
   },
   "outputs": [],
   "source": [
    "example_data.shape"
   ]
  },
  {
   "cell_type": "code",
   "execution_count": null,
   "id": "b9bf4ee4",
   "metadata": {},
   "outputs": [],
   "source": [
    "rs = RandomSampler(1000)\n",
    "X_rand, label_rand = rs.getRandomBatch(4)\n",
    "with torch.no_grad():\n",
    "    output = network(example_data, X_rand)"
   ]
  },
  {
   "cell_type": "code",
   "execution_count": null,
   "id": "52295cd7",
   "metadata": {},
   "outputs": [],
   "source": [
    "def binToDec(t):\n",
    "    return int(''.join(map(str, t.int().tolist())), 2)"
   ]
  },
  {
   "cell_type": "code",
   "execution_count": null,
   "id": "3f37bf4d",
   "metadata": {
    "scrolled": false
   },
   "outputs": [],
   "source": [
    "import random\n",
    "ls = list(zip(example_data, output, X_rand))\n",
    "random.shuffle(ls)\n",
    "\n",
    "fig = plt.figure(figsize=(20, 14))\n",
    "for idx, data in enumerate(ls):\n",
    "    if idx > 9:\n",
    "        break\n",
    "    plt.subplot(10,1,idx+1)\n",
    "    plt.tight_layout()\n",
    "    plt.imshow(data[0][0], cmap='gray', interpolation='none')\n",
    "    plt.title(\"Random input: {} Prediction: {}\".format(\n",
    "        binToDec(data[2]), decodeGetPrediction(np.round(data[1]))\n",
    "    ))\n",
    "    plt.xticks([])\n",
    "    plt.yticks([])\n",
    "    \n",
    "fig"
   ]
  }
 ],
 "metadata": {
  "kernelspec": {
   "display_name": "Python 3 (ipykernel)",
   "language": "python",
   "name": "python3"
  },
  "language_info": {
   "codemirror_mode": {
    "name": "ipython",
    "version": 3
   },
   "file_extension": ".py",
   "mimetype": "text/x-python",
   "name": "python",
   "nbconvert_exporter": "python",
   "pygments_lexer": "ipython3",
   "version": "3.8.10"
  },
  "vscode": {
   "interpreter": {
    "hash": "b8c20ed7f2aa5cad1ff485e801a9377d83872f703955e087c85041864230a92a"
   }
  }
 },
 "nbformat": 4,
 "nbformat_minor": 5
}
